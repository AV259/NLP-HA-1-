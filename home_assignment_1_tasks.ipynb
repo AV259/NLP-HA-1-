{
  "cells": [
    {
      "cell_type": "markdown",
      "id": "c295abce",
      "metadata": {
        "id": "c295abce"
      },
      "source": [
        "# Home Assignment 1 (20 points)\n",
        "\n",
        "Submit your solutions in teams of 5 students. Unless explicitly agreed otherwise in advance, **submissions from teams with more or less members will NOT be graded**.\n",
        "List all members of the team with their student ID in the cell below, and submit only one notebook per team. Only submit a notebook, do not submit the dataset(s) you used. Also, do NOT compress/zip your submission!\n",
        "\n",
        "You may use the code from the exercises and basic functionalities that are explained in official documentation of Python packages without citing, __all other sources must be cited__. In case of plagiarism (copying solutions from other teams or from the internet) ALL team members may be expelled from the course without warning.\n",
        "\n",
        "#### General guidelines:\n",
        "* Make sure that your code is executable, any task for which the code does not directly run on our machine will be graded with 0 points. We use the conda environment given below.\n",
        "* If you use packages that are not available on the default or conda-forge channel, list them below. Also add a link to installation instructions.\n",
        "* Ensure that the notebook does not rely on the current notebook or system state!\n",
        "  * Use `Kernel --> Restart & Run All` to see if you are using any definitions, variables etc. that\n",
        "    are not in scope anymore.\n",
        "  * Do not rename any of the datasets you use, and load it from the same directory that your ipynb-notebook is located in, i.e., your working directory.\n",
        "* Make sure you clean up your code before submission, e.g., properly align your code, and delete every line of code that you do not need anymore, even if you may have experimented with it. Minimize usage of global variables. Avoid reusing variable names multiple times!\n",
        "* Ensure your code/notebook terminates in reasonable time.\n",
        "* Feel free to use comments in the code. While we do not require them to get full marks, they may help us in case your code has minor errors.\n",
        "* For questions that require a textual answer, please do not write the answer as a comment in a code cell, but in a Markdown cell below the code. Always remember to provide sufficient justification for all answers.\n",
        "* You may create as many additional cells as you want, just make sure that the solutions to the individual tasks can be found near the corresponding assignment.\n",
        "* If you have any general question regarding the understanding of some task, do not hesitate to post on Slack, so we can clear up such questions for all students in the course.\n",
        "\n",
        "\n",
        "Conda environment used for grading:\n",
        "\n",
        "```yml\n",
        "name: nlp-ss2024\n",
        "channels:\n",
        "  - defaults\n",
        "dependencies:\n",
        "  - python=3.11\n",
        "  - pip\n",
        "  - pip:\n",
        "    - numpy==1.26.4\n",
        "    - nltk==3.8.1\n",
        "    - scikit-learn==1.4.2\n",
        "    - scipy==1.13.0\n",
        "    - notebook\n",
        "```\n",
        "\n",
        "### AI Disclosure\n",
        "\n",
        "*   Did you use any AI assistance to complete this homework? If so, please also specify what AI you used.\n",
        "    * *your response here*\n",
        "\n",
        "\n",
        "---\n",
        "*(only complete the below questions if you answered yes above)*\n",
        "\n",
        "*   If you used a large language model to assist you, please paste *all* of the prompts that you used below. Add a separate bullet for each prompt, and specify which problem is associated with which prompt.\n",
        "    * *your response here*\n",
        "*   **Free response**: For each problem for which you used assistance, describe your overall experience with the AI. How helpful was it? Did it just directly give you a good answer, or did you have to edit it? Was its output ever obviously wrong or irrelevant? Did you use it to get the answer or check your own answer?\n",
        "    * *your response here*\n"
      ]
    },
    {
      "cell_type": "code",
      "execution_count": null,
      "id": "04d29726",
      "metadata": {
        "id": "04d29726"
      },
      "outputs": [],
      "source": [
        "# UMR Usernames of all group members (<Username>@students.uni-marburg.de)\n",
        "team_members = [\n",
        "    \"Verma@students.uni-marburg.de\",\n",
        "    \"Student2\",\n",
        "    \"...\"\n",
        "]"
      ]
    },
    {
      "cell_type": "markdown",
      "id": "45fedefd",
      "metadata": {
        "id": "45fedefd"
      },
      "source": [
        "Additional packages (if any):\n",
        " - Example: `powerlaw`, https://github.com/jeffalstott/powerlaw"
      ]
    },
    {
      "cell_type": "code",
      "execution_count": null,
      "id": "1c2c397d",
      "metadata": {
        "id": "1c2c397d"
      },
      "outputs": [],
      "source": [
        "from typing import List, Union, Dict, Set, Tuple\n",
        "import numpy as np"
      ]
    },
    {
      "cell_type": "markdown",
      "id": "07b9f30f",
      "metadata": {
        "id": "07b9f30f"
      },
      "source": [
        "### Task 1: Regular expressions\n",
        "In this task you are asked to create regular expressions that meet the specified conditions. Please use the ``re`` package for the following subtasks."
      ]
    },
    {
      "cell_type": "code",
      "execution_count": null,
      "id": "20076392",
      "metadata": {
        "id": "20076392"
      },
      "outputs": [],
      "source": [
        "# import the re package\n",
        "import re"
      ]
    },
    {
      "cell_type": "markdown",
      "id": "c83245d4",
      "metadata": {
        "id": "c83245d4"
      },
      "source": [
        "a)Write a regular expression that returns all integer numbers from a text that are surrounded by whitespaces.  "
      ]
    },
    {
      "cell_type": "code",
      "execution_count": null,
      "id": "1623b9a9",
      "metadata": {
        "id": "1623b9a9"
      },
      "outputs": [],
      "source": [
        "# prompt: write a regular expression that returns all the positive and negative integer numbers from a text that are surrounded by whitespaces\n",
        "\n",
        "regex = r\"\\s[-+]?\\d+\\s\"\n"
      ]
    },
    {
      "cell_type": "markdown",
      "id": "268f05db",
      "metadata": {
        "id": "268f05db"
      },
      "source": [
        "__b)__ Write a regular expression that returns all valid years that are surrounded by whitespaces in a text. A valid year is a 4 digit number in the range from 0000 to 2022. You do not need to account for overlaps, e.g., `' 2023 2024 ' => [2023]` is ok. Bonus points if you do so (`' 2023 2024 ' => [2023,2024]`)."
      ]
    },
    {
      "cell_type": "code",
      "execution_count": null,
      "id": "d97f7592",
      "metadata": {
        "id": "d97f7592"
      },
      "outputs": [],
      "source": [
        "# prompt: Write a regular expression that returns all valid years that are surrounded by whitespaces in a text. A valid year is a 4 digit number in the range from 0000 to 2022.\n",
        "\n",
        "pattern = r'\\b(0{3}[1-9]|[1-9]\\d{3}|202[0-4])\\b'\n",
        "\n",
        "matches = re.findall(pattern, text)  # Find all matches in the input text\n"
      ]
    },
    {
      "cell_type": "markdown",
      "id": "1ea7b9ad",
      "metadata": {
        "id": "1ea7b9ad"
      },
      "source": [
        "__c)__ Write a regular expression that returns all dates in the format YYYY-MM-DD or YYYY/MM/DD from a given text. Make sure that YYYY is a valid year (see task __b)__), MM is a valid month (01 to 12) and DD is a valid day (01 to 31).\n",
        "There is no need to make sure that e.g. XXXX-02-31 does not exist.  "
      ]
    },
    {
      "cell_type": "code",
      "execution_count": null,
      "id": "fecd3a05",
      "metadata": {
        "id": "fecd3a05"
      },
      "outputs": [],
      "source": [
        "# your code here"
      ]
    },
    {
      "cell_type": "markdown",
      "id": "a035a263",
      "metadata": {
        "id": "a035a263"
      },
      "source": [
        "__d)__ Assume you are given a list ``l`` of strings like the one below. Using regular expressions, return a list that contains all elements from ``l`` that don't contain both, the letter ``a`` and ``e`` and store the result in a variable ``l_filtered``.  \n",
        "\n",
        "__Example:__ _given the list_  \n",
        "\n",
        "``l = [\"apple\", \"cucumber\", \"tomato\", \"zucchini\", \"pumpkin\", \"pear\", \"raspberry\", \"blueberry\"]``  \n",
        "\n",
        "_you should return_  \n",
        "\n",
        "``l_filtered = ['cucumber', 'tomato', 'zucchini', 'pumpkin', 'blueberry']``."
      ]
    },
    {
      "cell_type": "code",
      "execution_count": null,
      "id": "47106934",
      "metadata": {
        "id": "47106934"
      },
      "outputs": [],
      "source": [
        "# example list\n",
        "l = [\"apple\", \"cucumber\", \"tomato\", \"zucchini\", \"pumpkin\", \"pear\", \"raspberry\", \"blueberry\"]"
      ]
    },
    {
      "cell_type": "code",
      "execution_count": null,
      "id": "d1325041",
      "metadata": {
        "colab": {
          "base_uri": "https://localhost:8080/"
        },
        "id": "d1325041",
        "outputId": "8fab74c8-c217-4fa1-8ed5-bc52c62befe5"
      },
      "outputs": [
        {
          "output_type": "stream",
          "name": "stdout",
          "text": [
            "['cucumber', 'tomato', 'zucchini', 'pumpkin', 'blueberry']\n"
          ]
        }
      ],
      "source": [
        "#pattern = [^ae]\n",
        "l_filtered=[]\n",
        "for i in l:\n",
        "  if not re.findall('(?=.*a)(?=.*e)', i):\n",
        "    l_filtered.append(i)\n",
        "print(l_filtered)"
      ]
    },
    {
      "cell_type": "markdown",
      "id": "b905ecc7",
      "metadata": {
        "id": "b905ecc7"
      },
      "source": [
        "__e)__ For the given string ``s`` with 4 lines, change the _whole_ word ``pot`` (i.e. ``pottery`` should not be changed) to ``1234`` only if it is at the start of a line.  "
      ]
    },
    {
      "cell_type": "code",
      "execution_count": null,
      "id": "966e2b00",
      "metadata": {
        "id": "966e2b00"
      },
      "outputs": [],
      "source": [
        "s = '''\\\n",
        "pottery clot pot\n",
        "pot dot plot hot\n",
        "spot rot pot got\n",
        "not shot forgot'''"
      ]
    },
    {
      "cell_type": "code",
      "execution_count": null,
      "id": "50f05f6e",
      "metadata": {
        "id": "50f05f6e",
        "colab": {
          "base_uri": "https://localhost:8080/"
        },
        "outputId": "89ec265d-e8ba-4396-957e-68bf3784521d"
      },
      "outputs": [
        {
          "output_type": "stream",
          "name": "stdout",
          "text": [
            "pottery clot pot\n",
            "1234 dot plot hot\n",
            "spot rot pot got\n",
            "not shot forgot\n"
          ]
        }
      ],
      "source": [
        "print(re.sub(r'^pot\\b', '1234', s, flags=re.MULTILINE))  # This flag helps us to do multiple line matching\n"
      ]
    },
    {
      "cell_type": "markdown",
      "id": "be8e4d62",
      "metadata": {
        "id": "be8e4d62"
      },
      "source": [
        "### Task 2: Finding the most similar word\n",
        "The goal of this task is, given a corpus, to find the most similar word for a provided word. As an example we will consider the King James Bible that is is included in the ``gutenberg`` corpus and we are looking to find the word that is most similar to ``god``. We consider two words similar if they appear in the same word context."
      ]
    },
    {
      "cell_type": "markdown",
      "id": "4036fc75",
      "metadata": {
        "id": "4036fc75"
      },
      "source": [
        "__a) Cleaning the input__\n",
        "\n",
        "Write a function that, given a list of tokens, returns a list of tokens that we consider valid for our task. Moreover, all input tokens should be converted to lower case.\n",
        "\n",
        "An *invalid* token is a token that\n",
        "- is a punctuation mark (consider `string.punctuation`).\n",
        "- is entirely numeric digits (e.g. `\"123\"`)\n",
        "- optionally, if `remove_stopwords=True` then stopwords in the English language are also not considered valid tokens (use nltk's stopwords).\n",
        "\n",
        "Use the function signature specified in the cell below."
      ]
    },
    {
      "cell_type": "code",
      "execution_count": null,
      "id": "975b8007",
      "metadata": {
        "id": "975b8007"
      },
      "outputs": [],
      "source": [
        "import nltk\n",
        "from nltk.corpus.reader.util import StreamBackedCorpusView\n",
        "from nltk.corpus import stopwords\n",
        "\n",
        "def get_valid_tokens(tokens: Union[List[str], StreamBackedCorpusView], remove_stopwords: bool=True) -> List[str]:\n",
        "    \"\"\"\n",
        "    :param tokens: list of tokens that should be cleaned\n",
        "    :param remove_stopwords: bool indicating if stopwords should be removed\n",
        "                             False by default\n",
        "    :return: list of valid tokens\n",
        "    \"\"\"\n",
        "    # your code here\n",
        "    #removing the punctuations and converting to lower case\n",
        "    tokens = [token.lower() for token in tokens if token.isalpha()]    # isalpha() will make sure that no digits are present in our set of valid tokens\n",
        "\n",
        "    # stopwords removal\n",
        "    stopwords_list = set(stopwords.words('english'))   #set of all the stopwords in english language\n",
        "    valid_tokens = []    # empty list to store the tokens after removing the stopwords\n",
        "    for t in tokens:\n",
        "      if t not in stopwords_list:\n",
        "        valid_tokens.append(t)\n",
        "\n",
        "    return (valid_tokens)"
      ]
    },
    {
      "cell_type": "markdown",
      "id": "81184587",
      "metadata": {
        "id": "81184587"
      },
      "source": [
        "__b) Counting the surroundings__\n",
        "\n",
        "In our simple model of word similarity we consider words as similar if they are being used in the same context (i.e. they have similar words surrounding them).\n",
        "\n",
        "Implement a function that, given a list of words, returns the count of all words in a designated word's surrounding. The context size indicates how many words to the left and right we consider, i.e. a context size of 1 indicates that we only consider the words immediately before and after a central word to be in its context.\n",
        "\n",
        "Your function should return a dictionary which maps each word $w$ from the input list to a dictionary. The inner dictionary should map each word that appears in the context of the central word $w$ to a number that indicates how often it appears in the context of $w$.\n",
        "\n",
        "Make sure your implementation has linear complexity in the vocabulary / corpus length. Use the function signature specified in the cell below.\n",
        "\n",
        "__Hint:__ Instead of the inner dictionary you can alternatively use `Counter` or `defaultdict` which can be found in the Python module `collections`. Moreover, consider the function ``ngrams`` from ``nltk``.\n",
        "\n",
        "__Example:__ _For the input_\n",
        "`['hi', 'james', 'how', 'are', 'you', 'hello', 'catherine', 'how', 'are', 'you']` _and_ `context_size=1`\n",
        "_we wish to obtain:_\n",
        "```\n",
        "{'hi': {'james': 1},\n",
        " 'james': {'hi': 1, 'how': 1},\n",
        " 'how': {'james': 1, 'are': 2, 'catherine': 1},\n",
        " 'are': {'how': 2, 'you': 2},\n",
        " 'you': {'are': 2, 'hello': 1},\n",
        " 'hello': {'you': 1, 'catherine': 1},\n",
        " 'catherine': {'hello': 1, 'how': 1}}\n",
        "```\n",
        "__Explanation:__ _The word_ `hi` _is only surrounded by_ `james`_. The word_ `james` _is surrounded by_ `hi` _and_ `how` _. The word_ `how` _is surrounded by_ `james`_, by_ `catherine` _and by_ `are` _twice, ..._\n",
        "\n",
        "_For_ `contextsize=2` _we obtain:_\n",
        "```\n",
        "{'hi': {'james': 1, 'how': 1},\n",
        "'james': {'hi': 1, 'how': 1, 'are': 1},\n",
        "'how': {'are': 2, 'you': 2, 'hi': 1, 'james': 1, 'hello': 1, 'catherine': 1},\n",
        "'are': {'how': 2, 'you': 2, 'james': 1, 'hello': 1, 'catherine': 1},\n",
        "'you': {'how': 2, 'are': 2, 'hello': 1, 'catherine': 1},\n",
        "'hello': {'are': 1, 'you': 1, 'catherine': 1, 'how': 1},\n",
        "'catherine': {'you': 1, 'hello': 1, 'how': 1, 'are': 1}}\n",
        "```"
      ]
    },
    {
      "cell_type": "code",
      "execution_count": null,
      "id": "6a911633",
      "metadata": {
        "id": "6a911633"
      },
      "outputs": [],
      "source": [
        "def get_surrounding_counts(tokens: Union[List[str], StreamBackedCorpusView], context_size: int) -> Dict[str, Dict[str, int]]:\n",
        "    \"\"\"\n",
        "    :param tokens: list of tokens\n",
        "    :param context_size: integer that indicates the number of context words that are considered on both sides of the central word\n",
        "    :return: dict of dicts that holds the count of context words for each input token\n",
        "    \"\"\"\n",
        "    # your code here\n",
        "    from collections import defaultdict\n",
        "    from nltk.util import ngrams\n",
        "\n",
        "\n",
        "    context_counts = defaultdict(lambda: defaultdict(int))   # Initialize a defaultdict to store the context counts\n",
        "\n",
        "\n",
        "\n",
        "    for i, word in enumerate(tokens):           # Now we'll iterate over the set of tokens using enumerate function\n",
        "      start = max(0, i - context_size)          # Extracting the context indices\n",
        "      end = min(len(tokens), i + context_size + 1)\n",
        "\n",
        "      # Now, we'll extract the context words\n",
        "      context = tokens[start:i] + tokens[i+1:end]\n",
        "\n",
        "      # Counting the occurence of each context word\n",
        "      for context_word in context:\n",
        "        context_counts[word][context_word] += 1\n",
        "\n",
        "    return context_counts\n"
      ]
    },
    {
      "cell_type": "markdown",
      "id": "841e226d",
      "metadata": {
        "id": "841e226d"
      },
      "source": [
        "__c) Keeping the top $k$ words in context__\n",
        "\n",
        "To reduce the size of our result from task __b)__, we will only consider the most frequent context words for each token. Therefore, write a function that keeps only the $k$ most frequent words in the context of a designated word. Ties are resolved in lexicographic order (e.g. _**A**braham_ would be preferred to _**B**ethlehem_). The function should return a dictionary that maps each word in the outer dictionary to a __set__ of their top $k$ most frequent context words."
      ]
    },
    {
      "cell_type": "code",
      "execution_count": null,
      "id": "106f0d69",
      "metadata": {
        "id": "106f0d69"
      },
      "outputs": [],
      "source": [
        "def to_sets(context_dict: Dict[str, Dict[str, int]], k: int) -> Dict[str, Set[str]]:\n",
        "    \"\"\"\n",
        "    :param context_dict: dict of dicts that holds the count of context words for each word\n",
        "    :param k: integer that specifies how many context words should be kept\n",
        "    :return: dict that maps each word to a set of its k most frequent context words\n",
        "    \"\"\"\n",
        "    # your code here\n",
        "\n",
        "    return"
      ]
    },
    {
      "cell_type": "markdown",
      "id": "fc84aa14",
      "metadata": {
        "id": "fc84aa14"
      },
      "source": [
        "__d) Finding the most similar words__\n",
        "\n",
        "Given a dictionary as obtained in task __c)__ and a word $w$, we want to find the words that have the highest similarity to $w$ in terms of their context. We operationalize context similarity with the Jaccard index (https://en.wikipedia.org/wiki/Jaccard_index).\n",
        "The Jaccard index of two sets $A$ and $B$ (in our case the sets of context words) is defined as:\n",
        "\n",
        "$J(A, B) = \\frac{|A \\cap B|}{|A \\cup B|}$\n",
        "\n",
        "Write a function that returns the words that have the highest similarity to an input word $w$ (ignoring the input word itself). Since several words may have the same Jaccard similarity to the input word, your function should return the set of words that are most similar to $w$ and the respective value of the Jaccard similarity. Use the function signature specified in the cell below."
      ]
    },
    {
      "cell_type": "code",
      "execution_count": null,
      "id": "860e680a",
      "metadata": {
        "id": "860e680a"
      },
      "outputs": [],
      "source": [
        "def find_most_similar_words(input_word: str, contexts: Dict[str, Set[str]]) -> tuple[Set[str], float]:\n",
        "    \"\"\"\n",
        "    :param input_word: string that represents the word we are interested in\n",
        "    :param contexts: dict that maps each word to a set of its most frequent context words\n",
        "    :returns:\n",
        "        - set of the most similar words to the input word\n",
        "        - float that indicates the highest Jaccard similarity to the input word\n",
        "    \"\"\"\n",
        "    # your code here\n",
        "    return"
      ]
    },
    {
      "cell_type": "markdown",
      "id": "eca0214f",
      "metadata": {
        "id": "eca0214f"
      },
      "source": [
        "__e) Bringing it all together__\n",
        "\n",
        "Finally, we want to apply our functions to the King James Bible (`'bible-kjv.txt'`) that is part of the ``gutenberg`` corpus. We intend to find the word(s) that is (are) most similar to ``god``. Follow the steps below:\n",
        "\n",
        "i) Obtain a list of all tokens from the King James Bible and store it in a variable ``tokens``.  \n",
        "\n",
        "ii) Clean the list of tokens with your function from __a)__ to get the list of valid tokens (without removing stopwords) and store it in a variable ``valid_tokens``.  \n",
        "\n",
        "iii) Apply your function from __b)__ to count the context words for all valid tokens with a ``context_size`` of 2 and store the result in a variable ``context_counts``.  \n",
        "\n",
        "iv) Using your function from __c)__, keep only the 20 most frequent words in a valid tokens context and store the result in a variable ``context_words``.  \n",
        "\n",
        "v) Finally, find the most similar words to the word _god_ with your function from __d)__ and store the set of most similar words in the variable ``set_god`` and the highest Jaccard similarity in the variable ``sim_god``.  "
      ]
    },
    {
      "cell_type": "code",
      "execution_count": null,
      "id": "ec089bae-1c82-48b1-8e2c-b3660f46a77a",
      "metadata": {
        "id": "ec089bae-1c82-48b1-8e2c-b3660f46a77a"
      },
      "outputs": [],
      "source": [
        "import nltk\n",
        "nltk.download('gutenberg')"
      ]
    },
    {
      "cell_type": "code",
      "execution_count": null,
      "id": "8cfb84ee",
      "metadata": {
        "id": "8cfb84ee"
      },
      "outputs": [],
      "source": [
        "# your code here"
      ]
    }
  ],
  "metadata": {
    "kernelspec": {
      "display_name": "Python 3 (ipykernel)",
      "language": "python",
      "name": "python3"
    },
    "language_info": {
      "codemirror_mode": {
        "name": "ipython",
        "version": 3
      },
      "file_extension": ".py",
      "mimetype": "text/x-python",
      "name": "python",
      "nbconvert_exporter": "python",
      "pygments_lexer": "ipython3",
      "version": "3.11.7"
    },
    "colab": {
      "provenance": []
    }
  },
  "nbformat": 4,
  "nbformat_minor": 5
}